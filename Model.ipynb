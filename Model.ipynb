{
 "cells": [
  {
   "cell_type": "code",
   "execution_count": 28,
   "metadata": {},
   "outputs": [],
   "source": [
    "import pandas as pd\n",
    "training =pd.read_excel('Training.xlsx')\n",
    "training.drop(columns =['year'], inplace = True)"
   ]
  },
  {
   "cell_type": "code",
   "execution_count": 2,
   "metadata": {},
   "outputs": [],
   "source": [
    "from sklearn.linear_model import LogisticRegression\n",
    "y=training ['Promotion']\n",
    "X=training \n",
    "X.drop(columns =['Promotion'], inplace = True)\n",
    "clf = LogisticRegression(random_state=0, max_iter=60000).fit(X, y)\n"
   ]
  },
  {
   "cell_type": "code",
   "execution_count": 9,
   "metadata": {},
   "outputs": [],
   "source": [
    "import numpy as np\n",
    "r=[]\n",
    "z=clf.intercept_ \n",
    "\n",
    "for x in X.columns.values:\n",
    "    if x not in r:\n",
    "        r.append(x)\n",
    "print(r)\n",
    "Model= pd.DataFrame(clf.coef_,columns=[r])\n",
    "Model[\"Interception\"]=z\n",
    "Model\n",
    "Model.to_excel('Coeficients.xlsx' )\n"
   ]
  },
  {
   "cell_type": "code",
   "execution_count": 8,
   "metadata": {},
   "outputs": [],
   "source": [
    "test =pd.read_excel('Testing.xlsx')\n",
    "test.drop(columns =['year','Unnamed: 0'], inplace = True)\n",
    "\n",
    "y1=test['Promotion']\n",
    "X1=test\n",
    "X1.drop(columns =['Promotion'], inplace = True)\n",
    "\n",
    "r1=list(X.columns.values)\n",
    "r2=list(X1.columns.values)\n",
    "r=list(set(r) - set(r2))\n",
    "for x in r:\n",
    "    X1[x]=0\n"
   ]
  },
  {
   "cell_type": "code",
   "execution_count": 29,
   "metadata": {},
   "outputs": [],
   "source": [
    "import numpy as np\n",
    "\n",
    "X1=X1.reindex(columns=r1) \n",
    "for x in r1:\n",
    "    X1[x].fillna(0,inplace=True)\n",
    "    \n",
    "Test=clf.score(X1, y1)\n",
    "Trainig=clf.score(X, y)\n",
    "E=[]\n",
    "E.append(Trainig)\n",
    "E.append(Test)\n",
    "Errors= pd.DataFrame(E,columns=[\"error\"],index=[\"Training\",\"Testing\"])\n",
    "Errors.to_excel('Errors.xlsx' )\n"
   ]
  },
  {
   "cell_type": "code",
   "execution_count": 30,
   "metadata": {},
   "outputs": [],
   "source": [
    "from sklearn.metrics import f1_score\n",
    "from sklearn.metrics import recall_score\n",
    "from sklearn.metrics import confusion_matrix\n",
    "\n",
    "y_P=clf.predict(X) \n",
    "f1=f1_score(y, y_P, average='macro')\n",
    "recal=recall_score(y, y_P, average='macro')\n",
    "CM=confusion_matrix(y, y_P)\n",
    "\n",
    "y_P=clf.predict(X1) \n",
    "f1_t=f1_score(y1, y_P, average='macro')\n",
    "recal_t=recall_score(y1, y_P, average='macro')\n",
    "CM_T=confusion_matrix(y1, y_P)\n",
    "\n",
    "Va=[]\n",
    "Va.append(recal)\n",
    "Va.append(f1)\n",
    "Va.append(recal_t)\n",
    "Va.append(f1_t)\n",
    "\n",
    "Stats= pd.DataFrame(Va,columns=[\"Value\"],index=[\"Recall\", \"F1\" ,\"Recall Test\", \"F1 Test\"])\n",
    "Stats.to_excel('Stats.xlsx' )\n"
   ]
  }
 ],
 "metadata": {
  "kernelspec": {
   "display_name": "Python 3",
   "language": "python",
   "name": "python3"
  },
  "language_info": {
   "codemirror_mode": {
    "name": "ipython",
    "version": 3
   },
   "file_extension": ".py",
   "mimetype": "text/x-python",
   "name": "python",
   "nbconvert_exporter": "python",
   "pygments_lexer": "ipython3",
   "version": "3.7.6"
  }
 },
 "nbformat": 4,
 "nbformat_minor": 4
}
